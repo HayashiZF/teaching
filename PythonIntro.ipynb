{
 "cells": [
  {
   "cell_type": "code",
   "execution_count": 4,
   "metadata": {},
   "outputs": [],
   "source": [
    "from sympy import *\n",
    "from sympy.plotting import (plot, plot_parametric,plot3d_parametric_surface, plot3d_parametric_line,plot3d)\n",
    "import matplotlib.pyplot as plt"
   ]
  },
  {
   "cell_type": "markdown",
   "metadata": {},
   "source": [
    "#1 "
   ]
  },
  {
   "cell_type": "code",
   "execution_count": null,
   "metadata": {},
   "outputs": [],
   "source": [
    "u=1\n",
    "a=[2]\n",
    "for i in range(1,31):\n",
    "    a.append(u*a[i-1]*(1-a[i-1]))\n",
    "plt.plot(a,'o')\n",
    "print(a)"
   ]
  },
  {
   "cell_type": "code",
   "execution_count": 2,
   "metadata": {},
   "outputs": [
    {
     "name": "stdout",
     "output_type": "stream",
     "text": [
      "[-0.500000000000000, 2.50000000000000]\n"
     ]
    }
   ],
   "source": [
    "x=symbols('x')\n",
    "f=(x+3.5)*(x-5.5)+18\n",
    "print(solve(f,x))"
   ]
  },
  {
   "cell_type": "code",
   "execution_count": 6,
   "metadata": {},
   "outputs": [
    {
     "name": "stdout",
     "output_type": "stream",
     "text": [
      "16/7\n"
     ]
    }
   ],
   "source": [
    "x=symbols('x')\n",
    "print(integrate((x**3+1)**2,(x,-1,1)))"
   ]
  },
  {
   "cell_type": "code",
   "execution_count": null,
   "metadata": {},
   "outputs": [],
   "source": [
    "a, k= symbols('a, k')\n",
    "F=k*x # Define the Force function F\n",
    "W1=integrate(F,(x, 1.1, a)) # The expression of the first work after reaching distance a\n",
    "eqn1=W1-5 # Set up the first equation of \n",
    "\n",
    "W2=integrated(.......) #  Set up the second equation in the same way\n",
    "eqn2=........\n",
    "\n",
    "soln=solve([eq1,eq2],[a,k])\n",
    "print(soln) #Using the second tuple (list of tuples-->need 2 indices)\n",
    "print('The value of a is',soln[1][0],'and the value of k is',soln[1][1])"
   ]
  },
  {
   "cell_type": "markdown",
   "metadata": {},
   "source": [
    "#2"
   ]
  },
  {
   "cell_type": "code",
   "execution_count": null,
   "metadata": {},
   "outputs": [],
   "source": []
  },
  {
   "cell_type": "code",
   "execution_count": null,
   "metadata": {},
   "outputs": [],
   "source": []
  },
  {
   "cell_type": "code",
   "execution_count": null,
   "metadata": {},
   "outputs": [],
   "source": []
  },
  {
   "cell_type": "markdown",
   "metadata": {},
   "source": [
    "Summary of types of expressions in Python (some encountered above and some encountered later):"
   ]
  },
  {
   "cell_type": "code",
   "execution_count": null,
   "metadata": {},
   "outputs": [],
   "source": []
  },
  {
   "cell_type": "markdown",
   "metadata": {},
   "source": [
    "TIME FOR SOME 151/152 CONCEPTS!  \n",
    "Section 3: Vectors & Matrices\n",
    "\n",
    "Use the \"Matrix\" command to create matrices.  A vector is just a row matrix (though Python converts it to a column matrix instead)."
   ]
  },
  {
   "cell_type": "code",
   "execution_count": null,
   "metadata": {},
   "outputs": [],
   "source": [
    "init_printing() #command used to \"pretty-print\" output (This may or may not work, but let's see...)"
   ]
  },
  {
   "cell_type": "code",
   "execution_count": null,
   "metadata": {},
   "outputs": [],
   "source": [
    "#Vectors\n",
    "a=Matrix([-4,2])\n",
    "b=Matrix([-3,-1])\n",
    "#Vector operations\n",
    "print('a+b=',a+b)\n",
    "print('a-b=',a-b)\n",
    "print('3a=',3*a)\n",
    "print('a.b=',a.dot(b)) #Again, there's that \".\" syntax!\n",
    "print('|a|=',a.norm()) #defaults to \"2-norm\"\n",
    "print('The cosine of the angle between a and b is',a.dot(b)/(a.norm()*b.norm()))"
   ]
  },
  {
   "cell_type": "code",
   "execution_count": null,
   "metadata": {},
   "outputs": [],
   "source": [
    "#Matrices\n",
    "A = Matrix([[2,-3,-8,7],\n",
    "           [-2,-1,2,-7],\n",
    "           [1,0,-3,6]])\n",
    "print('A(1,2)=',A[0,1])\n",
    "print('first two rows and three columns of A are',A[0:2,0:3])  \n",
    "# can use \"colon notation\" to select multiple rows/columns, \n",
    "# *****BUT NOTICE***** it selects row 0 INCLUSIVE through row 2 EXCLUSIVE (and similar for columns)\n",
    "print('I(2)=',eye(2))   # 2x2 identity array\n",
    "print(\"A'=\",A.transpose()) #NOTICE that I used double-quotes, which allows Python to print the single-quote for transpose\n",
    "B=A[0:3,0:3] #remove the last column to create a square array\n",
    "print('B inverse =',B**(-1)) "
   ]
  },
  {
   "cell_type": "markdown",
   "metadata": {},
   "source": [
    "YOUR TURN: Use matrices to solve the system of equations below:\n",
    "\n",
    "4x - 2y + 6z = 8\n",
    "\n",
    "2x + 8y + 2z = 4\n",
    "\n",
    "6x + 10y + 3z = 0\n",
    "\n",
    "(Press \"Enter\" to write the next command on a new line, and \"Shift+Enter\" to execute the commands you have so far)"
   ]
  },
  {
   "cell_type": "code",
   "execution_count": null,
   "metadata": {},
   "outputs": [],
   "source": []
  },
  {
   "cell_type": "markdown",
   "metadata": {},
   "source": [
    "Section 4: Differential Calculus and Plotting\n",
    "\n",
    "The main symbolic commands used are \"limit\", \"diff\", and \"plot\".\n",
    "Numerical estimates require a tool called list comprehension as illustrated below."
   ]
  },
  {
   "cell_type": "code",
   "execution_count": null,
   "metadata": {},
   "outputs": [],
   "source": [
    "# Estimate limit of sin(x)/x as x->0 numerically\n",
    "x=symbols('x')\n",
    "f=sin(x)/x\n",
    "x0left=[-0.1,-0.01,-0.001,-0.0001]\n",
    "yvals=[f.subs({x:i}) for i in x0left] \n",
    "#Note the dictionary notation in the subs command. \n",
    "# The y-vals list is just the corresponding y-values for each x-value\n",
    "print('The y-values from the left are',yvals)\n",
    "#Now you try from the right...\n"
   ]
  },
  {
   "cell_type": "code",
   "execution_count": null,
   "metadata": {},
   "outputs": [],
   "source": [
    "matplotlib notebook"
   ]
  },
  {
   "cell_type": "code",
   "execution_count": null,
   "metadata": {},
   "outputs": [],
   "source": [
    "#The above command sets up interactive graphs within the Jupyter notebook\n",
    "#Graph to estimate the limit\n",
    "plot(f,(x,-1,1)) #Note the \"tuple\" argument.  This sets the x-range for the plot"
   ]
  },
  {
   "cell_type": "code",
   "execution_count": null,
   "metadata": {},
   "outputs": [],
   "source": [
    "#Exact limit using limit command\n",
    "L=limit(f,x,0)\n",
    "print('The limit of sin(x)/x as x->0 is',L)"
   ]
  },
  {
   "cell_type": "markdown",
   "metadata": {},
   "source": [
    "Variations of the limit command:"
   ]
  },
  {
   "cell_type": "code",
   "execution_count": null,
   "metadata": {},
   "outputs": [],
   "source": [
    "L1=limit((1+1/x)**x,x,oo) # The oo represents infinity in Python\n",
    "print('The limit of (1+1/x)**x as x->00 is',L1)\n",
    "L2=limit(1/x, x, 0,'+')  # 1/x to zero from right\n",
    "print('The limit of 1/x as x->0 from the right is',L2)\n",
    "L3=limit(1/x, x, 0, '-')  # 1/x to zero from left\n",
    "print('The limit of 1/x as x->0 from the left is',L3)"
   ]
  },
  {
   "cell_type": "code",
   "execution_count": null,
   "metadata": {},
   "outputs": [],
   "source": [
    "matplotlib notebook"
   ]
  },
  {
   "cell_type": "code",
   "execution_count": null,
   "metadata": {},
   "outputs": [],
   "source": []
  },
  {
   "cell_type": "markdown",
   "metadata": {},
   "source": []
  },
  {
   "cell_type": "code",
   "execution_count": null,
   "metadata": {},
   "outputs": [],
   "source": []
  },
  {
   "cell_type": "code",
   "execution_count": null,
   "metadata": {},
   "outputs": [],
   "source": []
  },
  {
   "cell_type": "code",
   "execution_count": null,
   "metadata": {},
   "outputs": [],
   "source": []
  },
  {
   "cell_type": "code",
   "execution_count": null,
   "metadata": {},
   "outputs": [],
   "source": []
  },
  {
   "cell_type": "code",
   "execution_count": null,
   "metadata": {},
   "outputs": [],
   "source": []
  }
 ],
 "metadata": {
  "kernelspec": {
   "display_name": "Python 3",
   "language": "python",
   "name": "python3"
  },
  "language_info": {
   "codemirror_mode": {
    "name": "ipython",
    "version": 3
   },
   "file_extension": ".py",
   "mimetype": "text/x-python",
   "name": "python",
   "nbconvert_exporter": "python",
   "pygments_lexer": "ipython3",
   "version": "3.7.3"
  }
 },
 "nbformat": 4,
 "nbformat_minor": 2
}
