{
 "cells": [
  {
   "cell_type": "markdown",
   "metadata": {},
   "source": [
    "NUMERICAL COMPUTATION IN PYTHON\n",
    "\n",
    "Before we can begin applying Python to Precalculus, we need an introduction to the symbolic package of Python, sympy, as well as some basics of computation, output, and variables.\n",
    "\n",
    "EXAMPLE: \n",
    "\n",
    "An open-top box is made by cutting out equal square corners of an 9 x 12 inch sheet of cardboard and folding up the flaps.  Find the volume of the box formed when the squares have a side length of\n",
    "\n",
    "        a) 1 inch\n",
    "\n",
    "        b) 0.5 inches\n",
    "\n",
    "        c) 3.1415926 inches\n",
    "\n",
    "**Method 1: Python as a calculator**\n",
    "\n",
    "Cutting one inch from all four corners of the cardboard creates a base of 7 x 10 inches with flaps 1 inch high.\n",
    "\n",
    "Cutting 0.5 inches from all four corners of the cardboard creates a base of 8 x 11 inches with flaps 0.5 inches high.\n",
    "\n",
    "And, finally, cutting 3.1415926 inches from all four corners of the cardboard creates a base of... 9-(2)(3.1415926) x 12-(2)(3.1415926) inches with flaps 3.1415926 inches high."
   ]
  },
  {
   "cell_type": "code",
   "execution_count": 2,
   "metadata": {},
   "outputs": [
    {
     "data": {
      "text/plain": [
       "48.793730470538755"
      ]
     },
     "execution_count": 2,
     "metadata": {},
     "output_type": "execute_result"
    }
   ],
   "source": [
    "# Answers to all questions.  Recall the \"#\" for comments ignored by Python\n",
    "# for inline comments\n",
    "# leave whitespace between each operations: + - * /\n",
    "\n",
    "7 * 10 * 1\n",
    "8 * 11 * 0.5\n",
    "(9 -2 * 3.1415926) * (12 - 2 * 3.1415926) * 3.1415926  # Pay attention to order of operations here!"
   ]
  },
  {
   "cell_type": "markdown",
   "metadata": {},
   "source": [
    "What happened here?  We did three computations but only got one output?  Python, in a sense, only keeps the last computation it was given (this should be obvious here) unless you force it to do otherwise.  The **print** command is how to force output"
   ]
  },
  {
   "cell_type": "code",
   "execution_count": 3,
   "metadata": {},
   "outputs": [
    {
     "name": "stdout",
     "output_type": "stream",
     "text": [
      "70\n",
      "44.0\n",
      "48.793730470538755\n"
     ]
    }
   ],
   "source": [
    "# Answers to all questions.  This time printing each answer.\n",
    "print(7 * 10 * 1)\n",
    "print(8 * 11 * 0.5)\n",
    "print((9 -2 * 3.1415926) * (12 - 2 * 3.1415926) * 3.1415926)"
   ]
  },
  {
   "cell_type": "markdown",
   "metadata": {},
   "source": [
    "Now we have 3 answers, but no explanation.  And, as future engineers, you will learn that explanation is essential to presenting solutions to problems!  Fortunately, you can put explanatory text in your print statement using quotes.  Notice Python does NOT care whether you use single quotes or double quotes!\n",
    "\n",
    "Also, we can simplify our typing on the last part by defining x=3.1415926 and just typing \"x\" in our computation."
   ]
  },
  {
   "cell_type": "code",
   "execution_count": 4,
   "metadata": {},
   "outputs": [
    {
     "name": "stdout",
     "output_type": "stream",
     "text": [
      "A flap 1 inch square produces a volume of 70 cubic inches.\n",
      "A flap 0.5 inches square produces a volume of 44.0 cubic inches.\n",
      "A flap 3.1415926 inches square produces a volume of 48.793730470538755 cubic inches.\n"
     ]
    }
   ],
   "source": [
    "# Answers to all questions, now with explanations in our output.\n",
    "print('A flap 1 inch square produces a volume of', 7 * 10 * 1, 'cubic inches.')\n",
    "print(\"A flap 0.5 inches square produces a volume of\", 8 * 11 * 0.5, \"cubic inches.\")\n",
    "# Now define x=3.1415926\n",
    "x = 3.1415926\n",
    "print('A flap',x,'inches square produces a volume of',(9 - 2 * x) * (12 - 2 * x) * x,'cubic inches.')"
   ]
  },
  {
   "cell_type": "markdown",
   "metadata": {},
   "source": [
    "**Method 2: Using variable expressions and substituting**\n",
    "\n",
    "This problem doesn't have long, drawn out computations, but if it did, it would be better not to have to retype the computation every time you did a new one!  Based on the patterns in Method 1, you can generalize by saying: Cutting *x* inches from each corner will produce a base of (9-2x) by (12-2x) with flaps x inches high. Therefore, we will define an expression (call it *Volume*) which is the product of these three dimensions."
   ]
  },
  {
   "cell_type": "code",
   "execution_count": 9,
   "metadata": {},
   "outputs": [],
   "source": [
    "Volume = (9 - 2 * x) * (12 - 2 * x) * x"
   ]
  },
  {
   "cell_type": "markdown",
   "metadata": {},
   "source": [
    "No output was produced, so let's print Volume and see what it says"
   ]
  },
  {
   "cell_type": "code",
   "execution_count": 6,
   "metadata": {},
   "outputs": [
    {
     "name": "stdout",
     "output_type": "stream",
     "text": [
      "48.793730470538755\n"
     ]
    }
   ],
   "source": [
    "print(Volume)"
   ]
  },
  {
   "cell_type": "markdown",
   "metadata": {},
   "source": [
    "This was our last answer, which makes sense because we defined x to be 3.1415926.  However, we'd rather have an expression for *GENERAL* dimension x.  So let's clear the variable and see what happens. (NOTE: I just did a Google search and found *del* clears, i.e. deletes a variable)."
   ]
  },
  {
   "cell_type": "code",
   "execution_count": 10,
   "metadata": {},
   "outputs": [
    {
     "ename": "NameError",
     "evalue": "name 'x' is not defined",
     "output_type": "error",
     "traceback": [
      "\u001b[1;31m---------------------------------------------------------------------------\u001b[0m",
      "\u001b[1;31mNameError\u001b[0m                                 Traceback (most recent call last)",
      "\u001b[1;32m<ipython-input-10-6743b3c97e42>\u001b[0m in \u001b[0;36m<module>\u001b[1;34m\u001b[0m\n\u001b[0;32m      1\u001b[0m \u001b[1;32mdel\u001b[0m \u001b[0mx\u001b[0m\u001b[1;33m\u001b[0m\u001b[1;33m\u001b[0m\u001b[0m\n\u001b[1;32m----> 2\u001b[1;33m \u001b[0mVolume\u001b[0m\u001b[1;33m=\u001b[0m\u001b[1;33m(\u001b[0m\u001b[1;36m9\u001b[0m \u001b[1;33m-\u001b[0m \u001b[1;36m2\u001b[0m \u001b[1;33m*\u001b[0m \u001b[0mx\u001b[0m\u001b[1;33m)\u001b[0m \u001b[1;33m*\u001b[0m \u001b[1;33m(\u001b[0m\u001b[1;36m12\u001b[0m \u001b[1;33m-\u001b[0m \u001b[1;36m2\u001b[0m \u001b[1;33m*\u001b[0m \u001b[0mx\u001b[0m\u001b[1;33m)\u001b[0m \u001b[1;33m*\u001b[0m \u001b[0mx\u001b[0m\u001b[1;33m\u001b[0m\u001b[1;33m\u001b[0m\u001b[0m\n\u001b[0m",
      "\u001b[1;31mNameError\u001b[0m: name 'x' is not defined"
     ]
    }
   ],
   "source": [
    "del x\n",
    "Volume=(9 - 2 * x) * (12 - 2 * x) * x"
   ]
  },
  {
   "cell_type": "markdown",
   "metadata": {},
   "source": [
    "Now an error.  If we read the error message, we sometimes (not always) get a clue as to WHY we got an error.  Python treats variables as \"storage spaces\" for numbers (or many other types of objects, as mentioned in the Course Overview).  But we want Python to treat x as, well, the variable x.  Enter the symbolic package of Python."
   ]
  },
  {
   "cell_type": "code",
   "execution_count": 11,
   "metadata": {},
   "outputs": [
    {
     "name": "stdout",
     "output_type": "stream",
     "text": [
      "x*(9 - 2*x)*(12 - 2*x)\n"
     ]
    }
   ],
   "source": [
    "from sympy import *  # This \"brings in\" all the commands from the sympy library\n",
    "x = symbols('x')\n",
    "Volume = (9 - 2 * x) * (12 - 2 * x) * x\n",
    "print(Volume)"
   ]
  },
  {
   "cell_type": "markdown",
   "metadata": {},
   "source": [
    "NOW we have a symbolic expression with a variable in it.  We can now substitute values in for x and produce our desired answers.  Notice the syntax for this:  *Variable.command(arguments)*.  This is VERY standard Python syntax!"
   ]
  },
  {
   "cell_type": "code",
   "execution_count": 11,
   "metadata": {},
   "outputs": [
    {
     "name": "stdout",
     "output_type": "stream",
     "text": [
      "A flap 1 inch square produces a volume of 70 cubic inches.\n",
      "A flap 0.5 inches square produces a volume of 44.0000000000000 cubic inches.\n",
      "A flap 3.1415926 inches square produces a volume of 48.7937304705388 cubic inches.\n"
     ]
    }
   ],
   "source": [
    "print('A flap 1 inch square produces a volume of', Volume.subs(x, 1), 'cubic inches.')\n",
    "print('A flap 0.5 inches square produces a volume of', Volume.subs(x, 0.5), 'cubic inches.')\n",
    "# As before, let's define a variable c=3.1415926 to simplify typing.\n",
    "c = 3.1415926\n",
    "print('A flap', c ,'inches square produces a volume of', Volume.subs(x, c),'cubic inches.')"
   ]
  },
  {
   "cell_type": "markdown",
   "metadata": {},
   "source": [
    "Trick to create a list by for loop"
   ]
  },
  {
   "cell_type": "code",
   "execution_count": 21,
   "metadata": {},
   "outputs": [
    {
     "name": "stdout",
     "output_type": "stream",
     "text": [
      "[0, 1, 2, 3, 4]\n"
     ]
    }
   ],
   "source": [
    "# To generate a list of integers from 0 to 4\n",
    "\n",
    "nums1 = [i for i in range(5)]\n",
    "print(nums1)"
   ]
  },
  {
   "cell_type": "code",
   "execution_count": 20,
   "metadata": {},
   "outputs": [
    {
     "name": "stdout",
     "output_type": "stream",
     "text": [
      "[0, 1, 2, 3, 4, 5]\n"
     ]
    }
   ],
   "source": [
    "# To generate a list of integers from 0 to 5\n",
    "\n",
    "nums2 = [i for i in range(6)]\n",
    "print(nums2)"
   ]
  },
  {
   "cell_type": "code",
   "execution_count": 22,
   "metadata": {},
   "outputs": [
    {
     "data": {
      "text/plain": [
       "[2, 4, 6, 8, 10]"
      ]
     },
     "execution_count": 22,
     "metadata": {},
     "output_type": "execute_result"
    }
   ],
   "source": [
    "# To generate a list of even numbers from 1 to 10 \n",
    "\n",
    "[2 * i for i in range(1, 6)]"
   ]
  },
  {
   "cell_type": "code",
   "execution_count": 24,
   "metadata": {},
   "outputs": [
    {
     "data": {
      "text/plain": [
       "[1, 3, 5, 7, 9]"
      ]
     },
     "execution_count": 24,
     "metadata": {},
     "output_type": "execute_result"
    }
   ],
   "source": [
    "# To generate a list of odd numbers from 1 to 10 \n",
    "\n",
    "[2 * i - 1 for i in range(1, 6)]"
   ]
  },
  {
   "cell_type": "markdown",
   "metadata": {},
   "source": [
    "**Method 3: Substitute ALL at once!**\n",
    "\n",
    "This is a preview of things to come.  Python allows you to make MULTIPLE substitutions at once by creating a list of values (note the [] to create a list) and using a **for** statement (also known as *List Comprehension*).  First, define the list of inputs."
   ]
  },
  {
   "cell_type": "code",
   "execution_count": 12,
   "metadata": {},
   "outputs": [
    {
     "name": "stdout",
     "output_type": "stream",
     "text": [
      "Squares with side lengths [1, 0.5, 3.1415926] produce volumes of [70, 44.0000000000000, 48.7937304705388]\n"
     ]
    }
   ],
   "source": [
    "xvals = [1, 0.5, 3.1415926]\n",
    "Volumes = [Volume.subs(x, i) for i in xvals]  #Think of this as \"go through the list and substitute each value for x\"\n",
    "print('Squares with side lengths', xvals, 'produce volumes of', Volumes)"
   ]
  },
  {
   "cell_type": "markdown",
   "metadata": {},
   "source": [
    "Of course, we can organize the output a little better, but we'll save that for another time.\n",
    "\n",
    "One last reminder from the Course Overview: all of the inputs were floating point decimals, so our answers were floating point decimals as well.  Suspending practicality for a moment, suppose we wanted to cut a square of side length square root of 2..."
   ]
  },
  {
   "cell_type": "code",
   "execution_count": 26,
   "metadata": {},
   "outputs": [
    {
     "name": "stdout",
     "output_type": "stream",
     "text": [
      "A flap sqrt(2) inches square produces a volume of sqrt(2)*(9 - 2*sqrt(2))*(12 - 2*sqrt(2)) cubic inches.\n"
     ]
    }
   ],
   "source": [
    "c = sqrt(2)\n",
    "print('A flap',c,'inches square produces a volume of', Volume.subs(x,c), 'cubic inches.')"
   ]
  },
  {
   "cell_type": "markdown",
   "metadata": {},
   "source": [
    "Recall from the Course Overview: Python will produce EXACT answers unless you give floating point decimals as input.  We have two options here:\n",
    "\n",
    "1) We can **simplify** the expression\n",
    "\n",
    "2) We can convert the expression to a floating point decimal approximation using **evalf**\n",
    "\n",
    "Let's demonstrate by assigning the value to a new variable, Vanswer"
   ]
  },
  {
   "cell_type": "code",
   "execution_count": 27,
   "metadata": {},
   "outputs": [
    {
     "name": "stdout",
     "output_type": "stream",
     "text": [
      "The exact volume is -84 + 116*sqrt(2)\n",
      "The approximate volume is 80.0487732352790\n"
     ]
    }
   ],
   "source": [
    "Vanswer = Volume.subs(x, c)\n",
    "print('The exact volume is', Vanswer.simplify())\n",
    "print('The approximate volume is', Vanswer.evalf())"
   ]
  },
  {
   "cell_type": "code",
   "execution_count": null,
   "metadata": {},
   "outputs": [],
   "source": []
  }
 ],
 "metadata": {
  "kernelspec": {
   "display_name": "Python 3",
   "language": "python",
   "name": "python3"
  },
  "language_info": {
   "codemirror_mode": {
    "name": "ipython",
    "version": 3
   },
   "file_extension": ".py",
   "mimetype": "text/x-python",
   "name": "python",
   "nbconvert_exporter": "python",
   "pygments_lexer": "ipython3",
   "version": "3.7.8"
  }
 },
 "nbformat": 4,
 "nbformat_minor": 2
}
