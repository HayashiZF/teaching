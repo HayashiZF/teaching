{
 "cells": [
  {
   "cell_type": "code",
   "execution_count": 3,
   "metadata": {},
   "outputs": [],
   "source": [
    "from sympy import *\n",
    "from sympy.plotting import (plot, plot_parametric)"
   ]
  },
  {
   "cell_type": "markdown",
   "metadata": {},
   "source": [
    "ABSOLUTE AND LOCAL EXTREMA IN PYTHON\n",
    "\n",
    "Recall that a function has a local extremum (maximum or minimum) at a critical value (a point where the derivative is zero OR does not exist).  A function can have a global extremum (maximum or minimum) at a critical value or the endpoint of its domain.\n",
    "\n",
    "NOTE: The example here (and in future overviews) is NOT a copy/paste to solve the problems in lab.  However, it will USE many of the features you will use to solve your problems, such as (in this case) differentiating vector functions, finding angles of tangent vectors, finding slopes and equations of tangent lines, and plotting.\n",
    "\n",
    "EXAMPLE: \n",
    "\n",
    "Given the function sqrt(t+1)/(1+t^2):\n",
    "\n",
    "a) Find the domain of the function.\n",
    "\n",
    "b) Find the critical values.\n",
    "\n",
    "c) Plot the function to determine which critical values are local maxima and which are local minima (include both x and y values)\n",
    "\n",
    "d) Find the absolute maximum and absolute minimum on its domain.\n",
    "\n",
    "e) Find the absolute maximum and absolute minimum on the closed interval [0, 2].\n",
    "\n",
    "Recall the process for solving calculus problems in Python: list the steps required to solve the problem by hand, then list the command(s) needed to perform each step in Python.  \n",
    "\n",
    "For part a) the process is as follows:\n",
    "\n",
    "1)  Find where the denominator is zero (**solve**)\n",
    "\n",
    "2)  Find where anything inside of even roots are nonnegative and anything inside of logarithms are positive (inequalities can be solved in Python using the command **reduce_inequalities**).\n",
    "\n",
    "In this example, both of these are easy to determine by hand, so not necessary to do in Python. We will still show how to use Python in the event that were not the case:"
   ]
  },
  {
   "cell_type": "code",
   "execution_count": 4,
   "metadata": {},
   "outputs": [
    {
     "name": "stdout",
     "output_type": "stream",
     "text": [
      "The denominator is zero when t is []\n",
      "Which means never.\n",
      "The domain is -1 <= t or [-1,oo)\n"
     ]
    }
   ],
   "source": [
    "t=symbols('t', real=True) #this will be helpful when solving\n",
    "denom=1+t**2\n",
    "numer=sqrt(t+1)\n",
    "# Step 1\n",
    "zerodenom=solve(denom,t)\n",
    "print('The denominator is zero when t is',zerodenom)\n",
    "print('Which means never.')\n",
    "# Step 2: square root only in this example\n",
    "domain=reduce_inequalities(t+1>=0)\n",
    "print('The domain is',domain,'or [-1,oo)')"
   ]
  },
  {
   "cell_type": "markdown",
   "metadata": {},
   "source": [
    "The steps to solve part b are:\n",
    "\n",
    "1)  Find the derivative (**diff**)\n",
    "\n",
    "2)  Set the derivative equal to zero (**solve**), noting any places where the derivative DNE as well"
   ]
  },
  {
   "cell_type": "code",
   "execution_count": 5,
   "metadata": {},
   "outputs": [
    {
     "name": "stdout",
     "output_type": "stream",
     "text": [
      "f'(t) = -2*t*sqrt(t + 1)/(t**2 + 1)**2 + 1/(2*sqrt(t + 1)*(t**2 + 1))\n",
      "Or simplified, (t**2 - 4*t*(t + 1) + 1)/(2*sqrt(t + 1)*(t**2 + 1)**2)\n"
     ]
    }
   ],
   "source": [
    "f=numer/denom\n",
    "# Step 1 \n",
    "df=diff(f,t)\n",
    "print(\"f'(t) =\",df)  #Note the double-quotes since we use a single quote in the text\n",
    "print(\"Or simplified,\",df.simplify())"
   ]
  },
  {
   "cell_type": "code",
   "execution_count": 6,
   "metadata": {},
   "outputs": [
    {
     "name": "stdout",
     "output_type": "stream",
     "text": [
      "[-2/3 + sqrt(7)/3, -sqrt(7)/3 - 2/3]\n",
      "[0.215250437021530, -1.54858377035486]\n"
     ]
    }
   ],
   "source": [
    "# Step 2\n",
    "cvals=solve(df,t)\n",
    "print(cvals) #We ran this line first to see there are two critical values...or are there?\n",
    "cvals_float=[i.evalf() for i in cvals] # convert each to decimal\n",
    "print(cvals_float)\n",
    "# Notice that the second solution is OUTSIDE THE DOMAIN! Remember you can also get extraneous solutions \n",
    "# by hand when solving equations with radicals in them (simple example: sqrt(x+2) = x)"
   ]
  },
  {
   "cell_type": "markdown",
   "metadata": {},
   "source": [
    "Steps for part c):\n",
    "\n",
    "1)  Plot the function (**plot**)\n",
    "\n",
    "2)  Determine by inspection whether critical value is a maximum or minimium\n",
    "\n",
    "3)  Substitute into the ORIGINAL FUNCTION to find the y-value (**subs**)\n",
    "\n",
    "As always, in Jupyter we run the next line to tell Python to put the graph in the Jupyter notebook."
   ]
  },
  {
   "cell_type": "code",
   "execution_count": 7,
   "metadata": {},
   "outputs": [],
   "source": [
    "#matplotlib notebook"
   ]
  },
  {
   "cell_type": "code",
   "execution_count": 8,
   "metadata": {},
   "outputs": [
    {
     "data": {
      "image/png": "[encoded data removed]",
      "text/plain": [
       "<Figure size 432x288 with 1 Axes>"
      ]
     },
     "metadata": {
      "needs_background": "light"
     },
     "output_type": "display_data"
    },
    {
     "name": "stdout",
     "output_type": "stream",
     "text": [
      "From the graph, [-2/3 + sqrt(7)/3, sqrt(1/3 + sqrt(7)/3)/((-2/3 + sqrt(7)/3)**2 + 1)] is a local maximum.\n",
      "Or as decimal approximations, [0.215250437021530, 1.05356921903375]\n"
     ]
    }
   ],
   "source": [
    "# Step 1 Remember to start at x=-1.  The 10 was arbitrarily chosen\n",
    "fplot=plot(f,(t,-1,10))\n",
    "# Step 2  Rather than retyping the value, we choose the ZEROth element of the list\n",
    "lmax_x=cvals[0]\n",
    "# Step 3\n",
    "lmax_y=f.subs(t,lmax_x)\n",
    "print('From the graph,',[lmax_x,lmax_y],'is a local maximum.')\n",
    "print('Or as decimal approximations,',[lmax_x.evalf(),lmax_y.evalf()])"
   ]
  },
  {
   "cell_type": "markdown",
   "metadata": {},
   "source": [
    "Steps to solve part (d) by hand (NOTE that it is obvious from the graph, but it may not always be! Plus you won't have graphing tools on the exam):\n",
    "  1. NOTE that since we do NOT have a closed, bounded interval, we are not guaranteed an absolute max and min!\n",
    "  \n",
    "  2. Find the y-values at the critical value and included endpoint (**subs**, list comprehension can also help do all at once)\n",
    "  \n",
    "  3. Find the limit of the function at the open endpoint (infinity in this case:  **limit**)\n",
    "  \n",
    "  4. If the limit is the largest (or smallest), there is NO absolute maximum (or minimum).  Otherwise, the largest and smallest answers in #2 are the winners. (**print** results)"
   ]
  },
  {
   "cell_type": "code",
   "execution_count": 7,
   "metadata": {},
   "outputs": [
    {
     "name": "stdout",
     "output_type": "stream",
     "text": [
      "y-values are [0, 1.05356921903375]\n",
      "limit to infinity is 0\n",
      "The absolute maximum is 1.05356921903375 at x= -2/3 + sqrt(7)/3\n",
      "The absolute minimum is 0 at x=-1\n"
     ]
    }
   ],
   "source": [
    "# Step 2: get the list of candidates first to do list comprehension\n",
    "maxmincandidates=[-1,lmax_x] \n",
    "yvals=[f.subs(t,i).evalf() for i in maxmincandidates]  #coverting to decimal to make it obvious\n",
    "print('y-values are',yvals)\n",
    "# Step 3\n",
    "print('limit to infinity is',limit(f,t,oo))  #executed these lines first, then finished\n",
    "# Step 4\n",
    "print('The absolute maximum is',yvals[1],'at x=',lmax_x)\n",
    "print('The absolute minimum is',yvals[0],'at x=-1')"
   ]
  },
  {
   "cell_type": "markdown",
   "metadata": {},
   "source": [
    "Part (e) is the same, but since we have a continous function on a closed, bounded interval, we can just do step 2-none of the other steps apply."
   ]
  },
  {
   "cell_type": "code",
   "execution_count": 8,
   "metadata": {},
   "outputs": [
    {
     "name": "stdout",
     "output_type": "stream",
     "text": [
      "y-values are [1.00000000000000, 1.05356921903375, 0.346410161513775]\n",
      "The absolute maximum is 1.05356921903375 at x= -2/3 + sqrt(7)/3\n",
      "The absolute minimum is 0.346410161513775 at x=2\n"
     ]
    }
   ],
   "source": [
    "# Step 2: create the list of candidates and substitute using list comprehension\n",
    "maxmincandidates=[0,lmax_x,2] \n",
    "yvals=[f.subs(t,i).evalf() for i in maxmincandidates]  #coverting to decimal to make it obvious\n",
    "print('y-values are',yvals)\n",
    "print('The absolute maximum is',yvals[1],'at x=',lmax_x)\n",
    "print('The absolute minimum is',yvals[2],'at x=2')"
   ]
  }
 ],
 "metadata": {
  "kernelspec": {
   "display_name": "Python 3",
   "language": "python",
   "name": "python3"
  },
  "language_info": {
   "codemirror_mode": {
    "name": "ipython",
    "version": 3
   },
   "file_extension": ".py",
   "mimetype": "text/x-python",
   "name": "python",
   "nbconvert_exporter": "python",
   "pygments_lexer": "ipython3",
   "version": "3.8.8"
  }
 },
 "nbformat": 4,
 "nbformat_minor": 2
}
