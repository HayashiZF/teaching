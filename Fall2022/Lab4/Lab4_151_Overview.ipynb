{
 "cells": [
  {
   "cell_type": "code",
   "execution_count": 1,
   "metadata": {},
   "outputs": [],
   "source": [
    "from sympy import *\n",
    "from sympy.plotting import (plot, plot_parametric,plot3d_parametric_surface, plot3d_parametric_line,plot3d)"
   ]
  },
  {
   "cell_type": "markdown",
   "metadata": {},
   "source": [
    "USING DERIVATIVES IN PYTHON\n",
    "\n",
    "Now that you have started learning shortcut rules for derivatives in lecture, we will apply the diff command to solve problems in Python.  \n",
    "\n",
    "NOTE: The example here (and in future overviews) is NOT a copy/paste to solve the problems in lab.  However, it will USE many of the features you will use to solve your problems, such as (in this case) differentiating functions, finding slopes and equations of tangent lines, solving equations, and plotting.\n",
    "\n",
    "EXAMPLE: \n",
    "\n",
    "Find the equations of all the lines tangent to f(x) = x/(x+1) which also pass through the point (1,2).\n",
    "\n",
    "As with most of these problems, you have to know the steps to solve them by hand first.  There are two strategies:\n",
    "\n",
    "STRATEGY 1:\n",
    "\n",
    "   1) Find the equation of the tangent line at x=a\n",
    "\n",
    "   2) Substitute the point (1,2) into the equation and solve for a\n",
    "\n",
    "STRATEGY 2:\n",
    "\n",
    "   1) The slope of the tangent line at x=a is f'(a). The slope can also be calculated since you know two points on the line: (a, f(a)) and (1,2). \n",
    "   \n",
    "   2) Set the slopes equal to each other and solve for a\n",
    "   \n",
    "Once you know a, you can find the equation."
   ]
  },
  {
   "cell_type": "code",
   "execution_count": null,
   "metadata": {},
   "outputs": [],
   "source": [
    "#Solve using Strategy 1\n",
    "a,x=symbols('a x') #Can also do each on a separate line\n",
    "f=x/(x+1)\n",
    "df=diff(f,x)\n",
    "m=df.subs(x,a)\n",
    "yval=f.subs(x,a)\n",
    "# Using point-slope form, y - yval = m(x - xval), so y = yval + m(x - xval)\n",
    "tanline=yval+m*(x-a)\n",
    "print('The equation of the tangent line is y=',tanline)\n",
    "# Now step 2\n",
    "eqn=tanline.subs(x,1)-2 #NOTE that the y is on the other side, so we actually solve tanline - 2 = 0\n",
    "avals=solve(eqn,a)\n",
    "print(avals) # This lets us see how many solutions there are"
   ]
  },
  {
   "cell_type": "code",
   "execution_count": 3,
   "metadata": {},
   "outputs": [
    {
     "name": "stdout",
     "output_type": "stream",
     "text": [
      "The equation to solve is -a/(a + 1)**2 + 1/(a + 1) = (a/(a + 1) - 2)/(a - 1)\n",
      "[-2 - sqrt(3), -2 + sqrt(3)]\n"
     ]
    }
   ],
   "source": [
    "#Solve using Strategy 2\n",
    "a,x=symbols('a x')  #Not necessary, but not a bad idea in case you redefined x or a previously!\n",
    "f=x/(x+1)\n",
    "df=diff(f,x)\n",
    "m1=df.subs(x,a)\n",
    "m2=(f.subs(x,a)-2)/(a-1)\n",
    "print('The equation to solve is',m1,'=',m2)\n",
    "# Now step 2\n",
    "avals=solve(m1-m2,a)\n",
    "print(avals)"
   ]
  },
  {
   "cell_type": "code",
   "execution_count": 4,
   "metadata": {},
   "outputs": [],
   "source": [
    "# Now find the equations of the tangent lines"
   ]
  },
  {
   "cell_type": "code",
   "execution_count": 5,
   "metadata": {},
   "outputs": [
    {
     "name": "stdout",
     "output_type": "stream",
     "text": [
      "The first tangent line is y= (1/(-sqrt(3) - 1) - (-2 - sqrt(3))/(-sqrt(3) - 1)**2)*(x + sqrt(3) + 2) + (-2 - sqrt(3))/(-sqrt(3) - 1) Or approximately y= 0.133974596215561*x + 1.86602540378444\n",
      "The second tangent line is y= (-(-2 + sqrt(3))/(-1 + sqrt(3))**2 + 1/(-1 + sqrt(3)))*(x - sqrt(3) + 2) + (-2 + sqrt(3))/(-1 + sqrt(3)) Or approximately y= 1.86602540378444*x + 0.133974596215562\n"
     ]
    }
   ],
   "source": [
    "a1=avals[0] #REMEMBER Python starts counting lists at 0!\n",
    "yval1=f.subs(x,a1)\n",
    "m1=df.subs(x,a1)\n",
    "eqn1=yval1+m1*(x-a1)\n",
    "print('The first tangent line is y=',eqn1,'Or approximately y=',eqn1.evalf())\n",
    "a2=avals[1] \n",
    "yval2=f.subs(x,a2)\n",
    "m2=df.subs(x,a2)\n",
    "eqn2=yval2+m2*(x-a2)\n",
    "print('The second tangent line is y=',eqn2,'Or approximately y=',eqn2.evalf())"
   ]
  },
  {
   "cell_type": "markdown",
   "metadata": {},
   "source": [
    "Finally, we will plot our function and tangent lines on the interval [-4,2] to verify the answer graphically.  Remember we need to start with matplotlib notebook! Remember that multiple plots can be done in the same command as \"tuples\" (parentheses around them).  Also, since there is a vertical asymptote in the interval, we need to use the ylim option in our plot as well."
   ]
  },
  {
   "cell_type": "code",
   "execution_count": 6,
   "metadata": {},
   "outputs": [],
   "source": [
    "#matplotlib notebook"
   ]
  },
  {
   "cell_type": "code",
   "execution_count": 7,
   "metadata": {},
   "outputs": [
    {
     "data": {
      "image/png": "[encoded data removed]",
      "text/plain": [
       "<Figure size 432x288 with 1 Axes>"
      ]
     },
     "metadata": {
      "needs_background": "light"
     },
     "output_type": "display_data"
    },
    {
     "data": {
      "text/plain": [
       "<sympy.plotting.plot.Plot at 0x170d782f5e0>"
      ]
     },
     "execution_count": 7,
     "metadata": {},
     "output_type": "execute_result"
    }
   ],
   "source": [
    "plot((f,(x,-4,2)),(eqn1,(x,-4,2)),(eqn2,(x,-4,2)),ylim=[-5,5]) #Notice the tangent lines appear to intersect at (1,2)!"
   ]
  },
  {
   "cell_type": "markdown",
   "metadata": {},
   "source": [
    "HIGHER ORDER DERIVATIVES\n",
    "\n",
    "Strategy 1:\n",
    "\n",
    "In order to find higher order derivatives, you could go through the painstaking process of taking them one at a time"
   ]
  },
  {
   "cell_type": "code",
   "execution_count": null,
   "metadata": {},
   "outputs": [],
   "source": [
    "x=symbols('x') #Can also do each on a separate line\n",
    "\n",
    "y = (3*x+7)/(5*x-1)\n",
    "\n",
    "dy = diff(y,x)\n",
    "\n",
    "dy2 = diff(dy,x)\n",
    "\n",
    "dy3 = diff(dy2,x)\n",
    "\n",
    "print(\"The first derivative of y is y'=\",dy,\", the second is y''=\",dy2,\", and the third is y'''=\",dy3)"
   ]
  },
  {
   "cell_type": "markdown",
   "metadata": {},
   "source": [
    "OR Strategy 2:\n",
    "\n",
    "The **diff** command allows you to indicate how many derivatives you would like to take, so we can succinctly do the same process as above by typing:"
   ]
  },
  {
   "cell_type": "code",
   "execution_count": null,
   "metadata": {},
   "outputs": [],
   "source": [
    "y = (3*x+7)/(5*x-1)\n",
    "\n",
    "print(\"The first derivative of y is y'=\",diff(y,x),\", the second is y''=\",diff(y,x,2),\", and the third is y'''=\",diff(y,x,3))"
   ]
  },
  {
   "cell_type": "code",
   "execution_count": null,
   "metadata": {},
   "outputs": [],
   "source": []
  }
 ],
 "metadata": {
  "kernelspec": {
   "display_name": "Python 3",
   "language": "python",
   "name": "python3"
  },
  "language_info": {
   "codemirror_mode": {
    "name": "ipython",
    "version": 3
   },
   "file_extension": ".py",
   "mimetype": "text/x-python",
   "name": "python",
   "nbconvert_exporter": "python",
   "pygments_lexer": "ipython3",
   "version": "3.8.8"
  }
 },
 "nbformat": 4,
 "nbformat_minor": 2
}
