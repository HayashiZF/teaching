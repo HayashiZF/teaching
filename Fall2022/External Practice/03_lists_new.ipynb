{
 "cells": [
  {
   "cell_type": "markdown",
   "metadata": {},
   "source": [
    "# Contents\n",
    "- [Python Lists](#Python-Lists)\n",
    "    - [Slicing and Indexing](#Slicing-and-Indexing)\n",
    "    - [Concatenation](#Concatenation)\n",
    "    - [Mutability](#Mutability)\n",
    "    - [Nested Lists](#Nested-Lists)\n",
    "    - [Shallow Copies](#Shallow-Copies)\n",
    "- [Exercises](#Exercises)"
   ]
  },
  {
   "attachments": {
    "ds_list.png": {
     "image/png": "[encoded data removed]"
    }
   },
   "cell_type": "markdown",
   "metadata": {},
   "source": [
    "# Python Lists\n",
    "\n",
    "![ds_list.png](attachment:ds_list.png)\n",
    "\n",
    "\n",
    "A [python list](https://docs.python.org/3.8/library/stdtypes.html#list) can be written as a list of comma-separated values (items) between square brackets.  The items of a list may be different types (heterogeneous data), but typically they are of the same type.  Lists are useful when the order of elements matter or when elements can be addressed by a numeral (index).\n",
    "\n",
    "Lists differ from strings in that they can hold more than just characters, and lists are [mutable](#Mutability) whereas strings are immutable.  More on this later in these notes."
   ]
  },
  {
   "cell_type": "code",
   "execution_count": 1,
   "metadata": {},
   "outputs": [
    {
     "data": {
      "text/plain": [
       "[1, 4, 9, 16, 25]"
      ]
     },
     "execution_count": 1,
     "metadata": {},
     "output_type": "execute_result"
    }
   ],
   "source": [
    "squares = [1, 4, 9, 16, 25]\n",
    "squares"
   ]
  },
  {
   "cell_type": "code",
   "execution_count": 2,
   "metadata": {},
   "outputs": [
    {
     "data": {
      "text/plain": [
       "['Sunday', 'Monday', 'Tuesday', 'Wednesday', 'Thursday', 'Friday', 'Saturday']"
      ]
     },
     "execution_count": 2,
     "metadata": {},
     "output_type": "execute_result"
    }
   ],
   "source": [
    "days_of_the_week = [\"Sunday\",\"Monday\",\"Tuesday\",\"Wednesday\",\"Thursday\",\"Friday\",\"Saturday\"]\n",
    "days_of_the_week"
   ]
  },
  {
   "cell_type": "code",
   "execution_count": 3,
   "metadata": {},
   "outputs": [
    {
     "data": {
      "text/plain": [
       "['Space', 42, 'Towel']"
      ]
     },
     "execution_count": 3,
     "metadata": {},
     "output_type": "execute_result"
    }
   ],
   "source": [
    "mixed_bag = [\"Space\", 42, \"Towel\"]\n",
    "mixed_bag"
   ]
  },
  {
   "cell_type": "markdown",
   "metadata": {},
   "source": [
    "## Slicing and Indexing\n",
    "Lists may be indexed and sliced just like strings (and all other built-in [sequence](https://docs.python.org/3.8/glossary.html#term-sequence) types).  All slice operations return a new list containing a [shallow copy](https://docs.python.org/3.8/library/copy.html#shallow-vs-deep-copy) of the requested elements (more on this below)."
   ]
  },
  {
   "cell_type": "code",
   "execution_count": 4,
   "metadata": {},
   "outputs": [
    {
     "data": {
      "text/plain": [
       "1"
      ]
     },
     "execution_count": 4,
     "metadata": {},
     "output_type": "execute_result"
    }
   ],
   "source": [
    "squares[0]"
   ]
  },
  {
   "cell_type": "code",
   "execution_count": 5,
   "metadata": {},
   "outputs": [
    {
     "data": {
      "text/plain": [
       "25"
      ]
     },
     "execution_count": 5,
     "metadata": {},
     "output_type": "execute_result"
    }
   ],
   "source": [
    "squares[-1]"
   ]
  },
  {
   "cell_type": "code",
   "execution_count": 6,
   "metadata": {},
   "outputs": [
    {
     "data": {
      "text/plain": [
       "[1, 4, 9, 16]"
      ]
     },
     "execution_count": 6,
     "metadata": {},
     "output_type": "execute_result"
    }
   ],
   "source": [
    "squares[:-1]"
   ]
  },
  {
   "cell_type": "code",
   "execution_count": 7,
   "metadata": {},
   "outputs": [
    {
     "data": {
      "text/plain": [
       "[9, 16, 25]"
      ]
     },
     "execution_count": 7,
     "metadata": {},
     "output_type": "execute_result"
    }
   ],
   "source": [
    "squares[-3:]"
   ]
  },
  {
   "cell_type": "code",
   "execution_count": 8,
   "metadata": {},
   "outputs": [
    {
     "data": {
      "text/plain": [
       "'Tuesday'"
      ]
     },
     "execution_count": 8,
     "metadata": {},
     "output_type": "execute_result"
    }
   ],
   "source": [
    "days_of_the_week[2]"
   ]
  },
  {
   "cell_type": "markdown",
   "metadata": {},
   "source": [
    "  ## Concatenation\n",
    "  \n",
    "  Lists may be concatenated using the plus (+) operator."
   ]
  },
  {
   "cell_type": "code",
   "execution_count": 9,
   "metadata": {},
   "outputs": [
    {
     "data": {
      "text/plain": [
       "[1, 4, 9, 16, 25, 36, 49, 64, 81, 100]"
      ]
     },
     "execution_count": 9,
     "metadata": {},
     "output_type": "execute_result"
    }
   ],
   "source": [
    "squares + [36, 49, 64, 81, 100]"
   ]
  },
  {
   "cell_type": "markdown",
   "metadata": {},
   "source": [
    "## Mutability\n",
    "\n",
    "Unlike strings, lists are [mutable](https://docs.python.org/3.8/glossary.html#term-mutable), meaning that their contents can be changed.  The values of a list can be modified using their index, slicing and even through methods like [`append()`](https://docs.python.org/3/tutorial/datastructures.html#more-on-lists) (functions and methods will be covered later)."
   ]
  },
  {
   "cell_type": "code",
   "execution_count": 10,
   "metadata": {},
   "outputs": [
    {
     "data": {
      "text/plain": [
       "[1, 8, 27, 64, 125]"
      ]
     },
     "execution_count": 10,
     "metadata": {},
     "output_type": "execute_result"
    }
   ],
   "source": [
    "cubes = [1, 8, 27, 65, 125] # 65 is incorrect here\n",
    "cubes[3] = 4 ** 3 # replace the incorrect value\n",
    "cubes"
   ]
  },
  {
   "cell_type": "code",
   "execution_count": 11,
   "metadata": {},
   "outputs": [
    {
     "data": {
      "text/plain": [
       "['a', 'b', 'c', 'd', 'e']"
      ]
     },
     "execution_count": 11,
     "metadata": {},
     "output_type": "execute_result"
    }
   ],
   "source": [
    "letters = ['a', 'b', 'c', 'd', 'e']\n",
    "letters"
   ]
  },
  {
   "cell_type": "code",
   "execution_count": 12,
   "metadata": {},
   "outputs": [
    {
     "data": {
      "text/plain": [
       "['a', 'b', 'C', 'D', 'e']"
      ]
     },
     "execution_count": 12,
     "metadata": {},
     "output_type": "execute_result"
    }
   ],
   "source": [
    "# replace some letters\n",
    "letters[2:4] = ['C', 'D']\n",
    "letters"
   ]
  },
  {
   "cell_type": "code",
   "execution_count": 13,
   "metadata": {},
   "outputs": [
    {
     "data": {
      "text/plain": [
       "['D', 'e']"
      ]
     },
     "execution_count": 13,
     "metadata": {},
     "output_type": "execute_result"
    }
   ],
   "source": [
    "# remove some letters\n",
    "letters[:3] = []\n",
    "letters"
   ]
  },
  {
   "cell_type": "code",
   "execution_count": 14,
   "metadata": {},
   "outputs": [
    {
     "data": {
      "text/plain": [
       "['D', 'e', 'q']"
      ]
     },
     "execution_count": 14,
     "metadata": {},
     "output_type": "execute_result"
    }
   ],
   "source": [
    "letters = letters + ['q'] # append 'q' to the list letters\n",
    "letters"
   ]
  },
  {
   "cell_type": "code",
   "execution_count": 15,
   "metadata": {},
   "outputs": [
    {
     "data": {
      "text/plain": [
       "['D', 'e', 'q', 'z']"
      ]
     },
     "execution_count": 15,
     "metadata": {},
     "output_type": "execute_result"
    }
   ],
   "source": [
    "letters += ['z'] # append 'z' using the compound operator\n",
    "letters"
   ]
  },
  {
   "cell_type": "markdown",
   "metadata": {},
   "source": [
    "The length of a list can be found using the [`len()`](https://docs.python.org/3/library/functions.html#len) function."
   ]
  },
  {
   "cell_type": "code",
   "execution_count": 16,
   "metadata": {
    "scrolled": true
   },
   "outputs": [
    {
     "data": {
      "text/plain": [
       "4"
      ]
     },
     "execution_count": 16,
     "metadata": {},
     "output_type": "execute_result"
    }
   ],
   "source": [
    "len(letters)"
   ]
  },
  {
   "cell_type": "markdown",
   "metadata": {},
   "source": [
    "## Nested Lists\n",
    "\n",
    "Lists may also be nested, meaning that lists can contain other lists.  "
   ]
  },
  {
   "cell_type": "code",
   "execution_count": 17,
   "metadata": {},
   "outputs": [
    {
     "data": {
      "text/plain": [
       "[['a', 'b', 'c'], [1, 2, 3]]"
      ]
     },
     "execution_count": 17,
     "metadata": {},
     "output_type": "execute_result"
    }
   ],
   "source": [
    "a = ['a', 'b', 'c']\n",
    "n = [1, 2, 3]\n",
    "x = [a, n]\n",
    "x"
   ]
  },
  {
   "cell_type": "code",
   "execution_count": 18,
   "metadata": {},
   "outputs": [
    {
     "data": {
      "text/plain": [
       "['a', 'b', 'c']"
      ]
     },
     "execution_count": 18,
     "metadata": {},
     "output_type": "execute_result"
    }
   ],
   "source": [
    "x[0]"
   ]
  },
  {
   "cell_type": "code",
   "execution_count": 19,
   "metadata": {},
   "outputs": [
    {
     "data": {
      "text/plain": [
       "'b'"
      ]
     },
     "execution_count": 19,
     "metadata": {},
     "output_type": "execute_result"
    }
   ],
   "source": [
    "x[0][1]"
   ]
  },
  {
   "cell_type": "markdown",
   "metadata": {},
   "source": [
    "## Shallow Copies\n",
    "\n",
    "A [shallow copy](https://docs.python.org/3.8/library/copy.html#shallow-vs-deep-copy) effectively creates a new object and inserts references into it referring back to the original object.  This can be beneficial when dealing with large objects in memory as you do not always need a true deep copy.  However, if one is unaware that a shallow copy is being used it can lead to unexpected and difficult to find errors.\n",
    "\n",
    "To demonstrate how shallow copies, such as those made by slicing and indexing, can lead to unexpected errors consider the following:"
   ]
  },
  {
   "cell_type": "code",
   "execution_count": 20,
   "metadata": {},
   "outputs": [
    {
     "name": "stdout",
     "output_type": "stream",
     "text": [
      "[[1, 2, 3], 42, 'adf']\n",
      "[[1, 2, 3, 10], 42, 'adf']\n"
     ]
    }
   ],
   "source": [
    "a = [[1,2,3], 42, \"adf\"]\n",
    "print(a)\n",
    "b = a[0]\n",
    "b += [10]\n",
    "print(a)"
   ]
  },
  {
   "cell_type": "markdown",
   "metadata": {},
   "source": [
    "In the above example the list `a` contains another list as its first element.  The first `print` statement outputs the list `a` as expected.  The next line performs a shallow copy of `a[0]` and stores this in `b`.  After this we append `10` to the list `b`, i.e. `[1,2,3]` -> `[1,2,3,10]`.  However, when we print `a` again after this change to `b`, we see that `a` also reflects this change even though we never explicitly modified `a`.  This is a consequence of a shallow copy and the mutability of list objects.  The shallow copy, `b = a[0]`, effectively makes a reference in `b` pointing back to the mutable list stored in `a[0]`, and the modification, `b += [10]`, actually changes the list rather than returning a new list (like you would see with immutable objects, e.g. integers, strings).  Thus both objects, `a` and `b`, reflect the change.\n",
    "\n",
    "Let us try the same example again, but instead referring to an immutable type to see the difference:"
   ]
  },
  {
   "cell_type": "code",
   "execution_count": 21,
   "metadata": {},
   "outputs": [
    {
     "name": "stdout",
     "output_type": "stream",
     "text": [
      "[[1, 2, 3], 42, 'adf']\n",
      "[[1, 2, 3], 42, 'adf']\n"
     ]
    }
   ],
   "source": [
    "a = [[1,2,3], 42, \"adf\"]\n",
    "print(a)\n",
    "b = a[1]\n",
    "b += 10\n",
    "print(a)"
   ]
  },
  {
   "cell_type": "markdown",
   "metadata": {},
   "source": [
    "# Exercises\n",
    "\n",
    "1. What does the following code do, and why?\n",
    "```\n",
    "a = [[1,2,3], 42, \"adf\"]\n",
    "print(a)\n",
    "b = a[2]\n",
    "b[1] = 'D'\n",
    "print(a)\n",
    "```\n",
    "1. What does the following code do, and why?\n",
    "```\n",
    "a = [[1,2,3], 42, \"adf\"]\n",
    "print(a)\n",
    "b = a[0]\n",
    "b = [3,2,1]\n",
    "print(a)\n",
    "```\n",
    "1. If all slice operations return a shallow copy, why do we not have the same issues with string that was laid out for lists in the [Shallow Copies](#Shallow-Copies) section above?\n",
    "1. Store the list `[\"apple\", \"banana\", \"cherry\", \"orange\", \"kiwi\", \"melon\", \"mango\"]` in a variable and complete the following:\n",
    "    1. Print the middle three items.\n",
    "    1. Print a single list containing the first two and last two items.\n",
    "    1. Add \"grapefruit\" to the list.\n",
    "    1. Remove \"banana\" and \"cherry\" from the list.\n"
   ]
  },
  {
   "cell_type": "markdown",
   "metadata": {},
   "source": [
    "# Additonal Material: Did you notice?"
   ]
  },
  {
   "cell_type": "markdown",
   "metadata": {},
   "source": [
    "Why do the following examples give different results?"
   ]
  },
  {
   "cell_type": "code",
   "execution_count": 22,
   "metadata": {},
   "outputs": [
    {
     "name": "stdout",
     "output_type": "stream",
     "text": [
      "[[1, 2, 3], 42, 'adf']\n",
      "[[1, 2, 3, 4], 42, 'adf']\n"
     ]
    }
   ],
   "source": [
    "a = [[1,2,3], 42, \"adf\"]  # line 1\n",
    "print(a)\n",
    "b = a[0]  # line 2\n",
    "b += [4]  # line 3\n",
    "print(a)"
   ]
  },
  {
   "cell_type": "code",
   "execution_count": 23,
   "metadata": {},
   "outputs": [
    {
     "name": "stdout",
     "output_type": "stream",
     "text": [
      "[[1, 2, 3], 42, 'adf']\n",
      "[[1, 2, 3], 42, 'adf']\n"
     ]
    }
   ],
   "source": [
    "a = [[1,2,3], 42, \"adf\"] # line 1\n",
    "print(a)\n",
    "b = a[0] # line 2\n",
    "b = b + [4] # line 4 - note we replace += with the expanded version\n",
    "print(a)"
   ]
  },
  {
   "cell_type": "markdown",
   "metadata": {},
   "source": [
    "In the first example above we see that we assign the variable `b` to 'be' (or point to) to the first element in `a`, which is a list.  We then use the `+=` operator to modify `b` by concatenating it with the list `[4]`.  We do not explicitly modify `a`, however we see that `a` has changed when we print it out.  \n"
   ]
  },
  {
   "attachments": {
    "Picture1.png": {
     "image/png": "[encoded data removed]"
    },
    "Picture2.png": {
     "image/png": "[encoded data removed]"
    }
   },
   "cell_type": "markdown",
   "metadata": {},
   "source": [
    "What is happening?\n",
    "\n",
    "We will have a section on name resolution later (07_name_resolution) that will give you additional detail, but I will attempt to give some insight here.\n",
    "\n",
    "Typically, people think of variables as holding some value, even 'physically' containing the value by some means.  This is inaccurate.  In Python when we discuss variables we are really referring to [name binding](https://docs.python.org/3/reference/executionmodel.html#naming-and-binding), and a variable effectively 'points' to a region of memory that actually does contain the value.  When we use the assignment operator `=` we are telling the interpreter to add the name of our variable to an internal table and point it to the object from the right hand side.  You could implement this as a dictionary where the keys are variable names, and the values are the objects to which the variables 'point'.\n",
    "\n",
    "From the example above, after `line 1` and `line 2` in the block above we have something like the following:\n",
    "\n",
    "![Picture1.png](attachment:Picture1.png)\n",
    "\n",
    "The `+=` operator in `line 3` performs an **in-place** operation that appends `4` to the existing list (pointed to by `b`) rather than returning a new list (See [In-place Operators](https://docs.python.org/3/library/operator.html#in-place-operators) in the manual for much more information).  The use of the in-place operation results in the following figure:\n",
    "\n",
    "![Picture2.png](attachment:Picture2.png)\n",
    "\n"
   ]
  },
  {
   "cell_type": "markdown",
   "metadata": {},
   "source": [
    "At this point you are probably ok.  However, after our discussion yesterday we saw that `x += 5` and `x = x + 5` are equivalent operations, and indeed if we plug in `b` we see that these are equivalent."
   ]
  },
  {
   "cell_type": "code",
   "execution_count": 24,
   "metadata": {
    "scrolled": true
   },
   "outputs": [
    {
     "data": {
      "text/plain": [
       "[1, 2, 3, 4]"
      ]
     },
     "execution_count": 24,
     "metadata": {},
     "output_type": "execute_result"
    }
   ],
   "source": [
    "b = [1,2,3]\n",
    "b += [4]\n",
    "b"
   ]
  },
  {
   "cell_type": "code",
   "execution_count": 25,
   "metadata": {},
   "outputs": [
    {
     "data": {
      "text/plain": [
       "[1, 2, 3, 4]"
      ]
     },
     "execution_count": 25,
     "metadata": {},
     "output_type": "execute_result"
    }
   ],
   "source": [
    "b = [1,2,3]\n",
    "b = b + [4]\n",
    "b"
   ]
  },
  {
   "cell_type": "markdown",
   "metadata": {},
   "source": [
    "\n",
    "But wait, why does the second example (repeated below) give a different result?  "
   ]
  },
  {
   "cell_type": "code",
   "execution_count": 26,
   "metadata": {},
   "outputs": [
    {
     "name": "stdout",
     "output_type": "stream",
     "text": [
      "[[1, 2, 3], 42, 'adf']\n",
      "[[1, 2, 3], 42, 'adf']\n"
     ]
    }
   ],
   "source": [
    "a = [[1,2,3], 42, \"adf\"] # line 1\n",
    "print(a)\n",
    "b = a[0] # line 2\n",
    "b = b + [4] # line 4 - note we replace += with the expanded version\n",
    "print(a)"
   ]
  },
  {
   "attachments": {
    "Picture3.png": {
     "image/png": "[encoded data removed]"
    }
   },
   "cell_type": "markdown",
   "metadata": {},
   "source": [
    "The expression `b + [4]` is evaluated on its own (not in-place as with `+=`), thus creating a new list containing the values from `b` and `[4]`.  The assignment, `b = b + [4]` then redirects `b` to point at the new list and no longer at the list in `a[0]`.  \n",
    "\n",
    "![Picture3.png](attachment:Picture3.png)\n",
    "\n"
   ]
  },
  {
   "cell_type": "markdown",
   "metadata": {},
   "source": [
    "Similarly, let us consider another example. In the following we replace the assignment/concatentation of `b` with `b = [3,2,1]`.  \n",
    "\n"
   ]
  },
  {
   "cell_type": "code",
   "execution_count": 27,
   "metadata": {},
   "outputs": [
    {
     "name": "stdout",
     "output_type": "stream",
     "text": [
      "[[1, 2, 3], 42, 'adf']\n",
      "[[1, 2, 3], 42, 'adf']\n"
     ]
    }
   ],
   "source": [
    "a = [[1,2,3], 42, \"adf\"] # line 1\n",
    "print(a)\n",
    "b = a[0] # line 2\n",
    "b = [3,2,1] # line 5 - note we use an explicitly created list\n",
    "print(a)\n"
   ]
  },
  {
   "cell_type": "markdown",
   "metadata": {},
   "source": [
    "Again we see that `a` remains unchanged.  The assignment in `line 5`, just as in `line 4`, is re-assigning the variable `b` to point to the new list `[3,2,1]`."
   ]
  },
  {
   "cell_type": "markdown",
   "metadata": {},
   "source": [
    "### Not for the faint of heart\n",
    "\n",
    "To get a better idea on what is happening under the hood we will need to introduce Python built-in function [`id()`](https://docs.python.org/3/library/functions.html#id) that returns the \"identity\" of an object.  This \"identity\" is a unique integer that will remain unchanged for the object's lifetime.  If you are familiar with other programming languages (e.g. C++) where memory addresses can be used directly, these \"identities\" are somewhat similar except they do not guarantee or represent any particular arrangement in memory, and should not be used as such.\n",
    "\n",
    "We will use the `id()` function to show how the variables change when using `+=` and `+` operators.\n",
    "\n",
    "First we create our list `b` with `[1,2,3]` and output its identity."
   ]
  },
  {
   "cell_type": "code",
   "execution_count": 28,
   "metadata": {},
   "outputs": [
    {
     "name": "stdout",
     "output_type": "stream",
     "text": [
      "id = 140504704889152\n",
      "[1, 2, 3]\n"
     ]
    }
   ],
   "source": [
    "b = [1,2,3]\n",
    "print('id =', id(b))\n",
    "print(b)"
   ]
  },
  {
   "cell_type": "markdown",
   "metadata": {},
   "source": [
    "We perform the in-place concatentation and again output the identity."
   ]
  },
  {
   "cell_type": "code",
   "execution_count": 29,
   "metadata": {},
   "outputs": [
    {
     "name": "stdout",
     "output_type": "stream",
     "text": [
      "id = 140504704889152\n",
      "[1, 2, 3, 4]\n"
     ]
    }
   ],
   "source": [
    "b += [4]\n",
    "print('id =', id(b))\n",
    "print(b)"
   ]
  },
  {
   "cell_type": "markdown",
   "metadata": {},
   "source": [
    "Note that the identity of `b` does not change, but the contents of the list do.  Let us try this again using the `=` and `+` operators separately."
   ]
  },
  {
   "cell_type": "code",
   "execution_count": 30,
   "metadata": {},
   "outputs": [
    {
     "name": "stdout",
     "output_type": "stream",
     "text": [
      "id = 140504704874848\n",
      "[1, 2, 3]\n"
     ]
    }
   ],
   "source": [
    "b = [1,2,3]\n",
    "print('id =', id(b))\n",
    "print(b)"
   ]
  },
  {
   "cell_type": "code",
   "execution_count": 31,
   "metadata": {},
   "outputs": [
    {
     "name": "stdout",
     "output_type": "stream",
     "text": [
      "id = 140504704874608\n",
      "[1, 2, 3, 4]\n"
     ]
    }
   ],
   "source": [
    "b = b + [4]\n",
    "print('id =', id(b))\n",
    "print(b)"
   ]
  },
  {
   "cell_type": "markdown",
   "metadata": {},
   "source": [
    "Two things to notice:\n",
    "\n",
    "- The id of `b` changed in the first block even though the values of the list are the same as before.  We are binding `b` to a new list so this makes sense.\n",
    "\n",
    "- The id of `b` changed between these two blocks due to the explicit separation `+` and `=` operators for the same reason.  We created a new list from the expression `b + [4]` and bound `b` to it."
   ]
  },
  {
   "cell_type": "markdown",
   "metadata": {},
   "source": [
    "With this new understanding of how variables (or names) work in Python, let us redraw our figure of the lists `a` and `b` from the original example (repeated below)."
   ]
  },
  {
   "cell_type": "code",
   "execution_count": 32,
   "metadata": {},
   "outputs": [
    {
     "name": "stdout",
     "output_type": "stream",
     "text": [
      "[[1, 2, 3], 42, 'adf']\n",
      "[[1, 2, 3, 4], 42, 'adf']\n"
     ]
    }
   ],
   "source": [
    "a = [[1,2,3], 42, \"adf\"]  # line 1\n",
    "print(a)\n",
    "b = a[0]  # line 2\n",
    "b += [4]  # line 3\n",
    "print(a)"
   ]
  },
  {
   "attachments": {
    "Picture4.png": {
     "image/png": "[encoded data removed]"
    }
   },
   "cell_type": "markdown",
   "metadata": {},
   "source": [
    "\n",
    "\n",
    "![Picture4.png](attachment:Picture4.png)\n",
    "\n",
    "\n",
    "A list is a complex data structure that can store heterogeneous data.  In our example we are storing a list, a scalar and a string.  As such it should make sense that the list is really a collection of names (variables) that point to the object we assign.\n"
   ]
  },
  {
   "cell_type": "markdown",
   "metadata": {},
   "source": [
    "We can use the `id()` function to give us some additional insight."
   ]
  },
  {
   "cell_type": "code",
   "execution_count": 33,
   "metadata": {},
   "outputs": [
    {
     "name": "stdout",
     "output_type": "stream",
     "text": [
      "a = [[1, 2, 3], 42, 'adf']\n",
      "id(a)    = 140504705532544\n",
      "id(a[0]) = 140504705532304\n",
      "id(a[1]) = 4532730272\n",
      "id(a[2]) = 140504704078704\n"
     ]
    }
   ],
   "source": [
    "a = [[1,2,3], 42, \"adf\"]  # line 1\n",
    "print('a =', a)\n",
    "print('id(a)    =', id(a))\n",
    "print('id(a[0]) =', id(a[0]))\n",
    "print('id(a[1]) =', id(a[1]))\n",
    "print('id(a[2]) =', id(a[2]))"
   ]
  },
  {
   "cell_type": "markdown",
   "metadata": {},
   "source": [
    "Again, notice that the identities of these objects are not necessarily linearly related as one would expect from memory pointers as in C++ vectors, for example.  "
   ]
  },
  {
   "cell_type": "code",
   "execution_count": 34,
   "metadata": {},
   "outputs": [
    {
     "name": "stdout",
     "output_type": "stream",
     "text": [
      "b = [1, 2, 3]\n",
      "id(b)    = 140504705532304\n",
      "id(a[0]) = 140504705532304\n"
     ]
    }
   ],
   "source": [
    "b = a[0]  # line 2\n",
    "print('b =', b)\n",
    "print('id(b)    =', id(b))\n",
    "print('id(a[0]) =', id(a[0]))\n"
   ]
  },
  {
   "cell_type": "markdown",
   "metadata": {},
   "source": [
    "When we make the assignment from `line 2` we see that `b` is bound to the same identity as `a[0]`.  Thus `a[0]` and `b` both point to the same object."
   ]
  },
  {
   "cell_type": "markdown",
   "metadata": {},
   "source": [
    "### More Confusing Still - Small Integer Caching\n",
    "\n",
    "It happens that small integers are used so often in code that it is more efficient to assign the objects containing those values at startup so they are available for use when needed.  The exact range of small integers may vary depending on your version of Python, but this is typically between -5 and 256.  So what does this mean?"
   ]
  },
  {
   "cell_type": "code",
   "execution_count": 35,
   "metadata": {},
   "outputs": [
    {
     "name": "stdout",
     "output_type": "stream",
     "text": [
      "4532730272\n",
      "4532730272\n",
      "4532730272\n"
     ]
    }
   ],
   "source": [
    "x = 42\n",
    "print(id(42))\n",
    "print(id(x))\n",
    "print(id(a[1]))"
   ]
  },
  {
   "cell_type": "markdown",
   "metadata": {},
   "source": [
    "In the above example we assign the variable `x` to the value `42` and the output the identity of `42`, `x` and `a[1]` (since `a[1]` also contained the value `42`).  Notice that they all have the exact same identity.  This is due to the small integer caching.  \n",
    "\n",
    "While the above holds for integers in the 'small integer' range, it is not necessarily true that all variables that have the same value share the same identity.  Consider the following:"
   ]
  },
  {
   "cell_type": "code",
   "execution_count": 36,
   "metadata": {},
   "outputs": [
    {
     "name": "stdout",
     "output_type": "stream",
     "text": [
      "140504705548528\n",
      "140504705548528\n",
      "140504705550064\n",
      "140504705549744\n"
     ]
    }
   ],
   "source": [
    "x = '123a'\n",
    "print(id('123a'))\n",
    "print(id(x))\n",
    "x = '12,,3a'\n",
    "print(id('12,,3a'))\n",
    "print(id(x))"
   ]
  },
  {
   "cell_type": "markdown",
   "metadata": {},
   "source": [
    "The first two strings share the same identity above, but the second two do not.  This may occur for some immutable types."
   ]
  },
  {
   "cell_type": "code",
   "execution_count": 37,
   "metadata": {},
   "outputs": [
    {
     "name": "stdout",
     "output_type": "stream",
     "text": [
      "140504705532064\n",
      "140504704873808\n"
     ]
    }
   ],
   "source": [
    "x = [1,2,3]\n",
    "print(id([1,2,3]))\n",
    "print(id(x))"
   ]
  },
  {
   "cell_type": "markdown",
   "metadata": {},
   "source": [
    "In this last example the two lists do not share the same identity even though their values are equivalent.  "
   ]
  }
 ],
 "metadata": {
  "kernelspec": {
   "display_name": "Python 3",
   "language": "python",
   "name": "python3"
  },
  "language_info": {
   "codemirror_mode": {
    "name": "ipython",
    "version": 3
   },
   "file_extension": ".py",
   "mimetype": "text/x-python",
   "name": "python",
   "nbconvert_exporter": "python",
   "pygments_lexer": "ipython3",
   "version": "3.7.8"
  }
 },
 "nbformat": 4,
 "nbformat_minor": 2
}
